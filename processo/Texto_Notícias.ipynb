{
  "nbformat": 4,
  "nbformat_minor": 0,
  "metadata": {
    "colab": {
      "name": "Texto Notícias",
      "provenance": [],
      "collapsed_sections": []
    },
    "kernelspec": {
      "name": "python3",
      "display_name": "Python 3"
    }
  },
  "cells": [
    {
      "cell_type": "code",
      "metadata": {
        "id": "r4DwUROOIMkW",
        "colab": {
          "base_uri": "https://localhost:8080/"
        },
        "outputId": "1852d6d4-13da-42ba-9e5f-27e389901886"
      },
      "source": [
        "from google.colab import drive\n",
        "drive.mount('drive')"
      ],
      "execution_count": null,
      "outputs": [
        {
          "output_type": "stream",
          "text": [
            "Mounted at drive\n"
          ],
          "name": "stdout"
        }
      ]
    },
    {
      "cell_type": "code",
      "metadata": {
        "id": "wBLgVZYpHym-",
        "colab": {
          "base_uri": "https://localhost:8080/"
        },
        "outputId": "f77f697e-12dd-4423-b25b-264a4e42a7be"
      },
      "source": [
        "!pip install yfinance\n",
        "!pip install newsapi-python\n",
        "!pip install unidecode"
      ],
      "execution_count": null,
      "outputs": [
        {
          "output_type": "stream",
          "text": [
            "Collecting yfinance\n",
            "  Downloading https://files.pythonhosted.org/packages/7a/e8/b9d7104d3a4bf39924799067592d9e59119fcfc900a425a12e80a3123ec8/yfinance-0.1.55.tar.gz\n",
            "Requirement already satisfied: pandas>=0.24 in /usr/local/lib/python3.6/dist-packages (from yfinance) (1.1.5)\n",
            "Requirement already satisfied: numpy>=1.15 in /usr/local/lib/python3.6/dist-packages (from yfinance) (1.19.4)\n",
            "Requirement already satisfied: requests>=2.20 in /usr/local/lib/python3.6/dist-packages (from yfinance) (2.23.0)\n",
            "Requirement already satisfied: multitasking>=0.0.7 in /usr/local/lib/python3.6/dist-packages (from yfinance) (0.0.9)\n",
            "Collecting lxml>=4.5.1\n",
            "\u001b[?25l  Downloading https://files.pythonhosted.org/packages/bd/78/56a7c88a57d0d14945472535d0df9fb4bbad7d34ede658ec7961635c790e/lxml-4.6.2-cp36-cp36m-manylinux1_x86_64.whl (5.5MB)\n",
            "\u001b[K     |████████████████████████████████| 5.5MB 10.8MB/s \n",
            "\u001b[?25hRequirement already satisfied: pytz>=2017.2 in /usr/local/lib/python3.6/dist-packages (from pandas>=0.24->yfinance) (2018.9)\n",
            "Requirement already satisfied: python-dateutil>=2.7.3 in /usr/local/lib/python3.6/dist-packages (from pandas>=0.24->yfinance) (2.8.1)\n",
            "Requirement already satisfied: idna<3,>=2.5 in /usr/local/lib/python3.6/dist-packages (from requests>=2.20->yfinance) (2.10)\n",
            "Requirement already satisfied: chardet<4,>=3.0.2 in /usr/local/lib/python3.6/dist-packages (from requests>=2.20->yfinance) (3.0.4)\n",
            "Requirement already satisfied: certifi>=2017.4.17 in /usr/local/lib/python3.6/dist-packages (from requests>=2.20->yfinance) (2020.12.5)\n",
            "Requirement already satisfied: urllib3!=1.25.0,!=1.25.1,<1.26,>=1.21.1 in /usr/local/lib/python3.6/dist-packages (from requests>=2.20->yfinance) (1.24.3)\n",
            "Requirement already satisfied: six>=1.5 in /usr/local/lib/python3.6/dist-packages (from python-dateutil>=2.7.3->pandas>=0.24->yfinance) (1.15.0)\n",
            "Building wheels for collected packages: yfinance\n",
            "  Building wheel for yfinance (setup.py) ... \u001b[?25l\u001b[?25hdone\n",
            "  Created wheel for yfinance: filename=yfinance-0.1.55-py2.py3-none-any.whl size=22616 sha256=004f93ed0f7016cc859200cc743c88292d6974f89b863850f11d7f56afd67891\n",
            "  Stored in directory: /root/.cache/pip/wheels/04/98/cc/2702a4242d60bdc14f48b4557c427ded1fe92aedf257d4565c\n",
            "Successfully built yfinance\n",
            "Installing collected packages: lxml, yfinance\n",
            "  Found existing installation: lxml 4.2.6\n",
            "    Uninstalling lxml-4.2.6:\n",
            "      Successfully uninstalled lxml-4.2.6\n",
            "Successfully installed lxml-4.6.2 yfinance-0.1.55\n",
            "Collecting newsapi-python\n",
            "  Downloading https://files.pythonhosted.org/packages/de/9e/9050199ac7cbc755d1c49577fdaa5517901124b574264b3602a8b8028440/newsapi_python-0.2.6-py2.py3-none-any.whl\n",
            "Requirement already satisfied: requests<3.0.0 in /usr/local/lib/python3.6/dist-packages (from newsapi-python) (2.23.0)\n",
            "Requirement already satisfied: certifi>=2017.4.17 in /usr/local/lib/python3.6/dist-packages (from requests<3.0.0->newsapi-python) (2020.12.5)\n",
            "Requirement already satisfied: idna<3,>=2.5 in /usr/local/lib/python3.6/dist-packages (from requests<3.0.0->newsapi-python) (2.10)\n",
            "Requirement already satisfied: chardet<4,>=3.0.2 in /usr/local/lib/python3.6/dist-packages (from requests<3.0.0->newsapi-python) (3.0.4)\n",
            "Requirement already satisfied: urllib3!=1.25.0,!=1.25.1,<1.26,>=1.21.1 in /usr/local/lib/python3.6/dist-packages (from requests<3.0.0->newsapi-python) (1.24.3)\n",
            "Installing collected packages: newsapi-python\n",
            "Successfully installed newsapi-python-0.2.6\n",
            "Collecting unidecode\n",
            "\u001b[?25l  Downloading https://files.pythonhosted.org/packages/d0/42/d9edfed04228bacea2d824904cae367ee9efd05e6cce7ceaaedd0b0ad964/Unidecode-1.1.1-py2.py3-none-any.whl (238kB)\n",
            "\u001b[K     |████████████████████████████████| 245kB 8.8MB/s \n",
            "\u001b[?25hInstalling collected packages: unidecode\n",
            "Successfully installed unidecode-1.1.1\n"
          ],
          "name": "stdout"
        }
      ]
    },
    {
      "cell_type": "code",
      "metadata": {
        "id": "0NEeSa4vJ696"
      },
      "source": [
        "import pandas as pd\n",
        "import numpy as np\n",
        "import seaborn as sns\n",
        "import matplotlib.pyplot as plt\n",
        "import datetime\n",
        "\n",
        "from sklearn.model_selection import train_test_split\n",
        "from sklearn.feature_extraction.text import CountVectorizer, TfidfVectorizer\n",
        "from sklearn.feature_selection import GenericUnivariateSelect, chi2\n",
        "from sklearn.naive_bayes import MultinomialNB, GaussianNB\n",
        "from sklearn.svm import SVC\n",
        "from sklearn.neural_network import MLPClassifier\n",
        "from sklearn.ensemble import RandomForestClassifier, AdaBoostClassifier\n",
        "from sklearn.metrics import roc_curve, auc, confusion_matrix, precision_recall_curve\n",
        "from sklearn.utils import resample\n",
        "from sklearn.pipeline import make_pipeline\n",
        "\n",
        "import nltk\n",
        "from nltk.corpus import stopwords\n",
        "from nltk.tokenize import word_tokenize\n",
        "from nltk.tokenize.treebank import TreebankWordDetokenizer\n",
        "from string import punctuation\n",
        "from unidecode import unidecode\n",
        "import re\n",
        "\n",
        "\n",
        "from collections import Counter\n",
        "\n",
        "#from lime import lime_text\n",
        "#from lime.lime_text import LimeTextExplainer\n",
        "\n",
        "#from category_encoders import *\n",
        "import ipywidgets as widgets\n",
        "from IPython.display import display, clear_output, Markdown\n",
        "import time\n",
        "import datetime\n",
        "#import win32com.client as win32\n",
        "from traitlets import traitlets\n",
        "\n",
        "import random\n",
        "import math\n",
        "\n",
        "nltk.data.path.append('./nltk_data/')\n",
        "\n",
        "import yfinance as yf"
      ],
      "execution_count": null,
      "outputs": []
    },
    {
      "cell_type": "code",
      "metadata": {
        "colab": {
          "base_uri": "https://localhost:8080/"
        },
        "id": "qGJd6r1QQa31",
        "outputId": "eff1a0f6-da09-45b6-b832-31e4d730565a"
      },
      "source": [
        "nltk.download('stopwords')\n",
        "nltk.download('punkt')"
      ],
      "execution_count": null,
      "outputs": [
        {
          "output_type": "stream",
          "text": [
            "[nltk_data] Downloading package stopwords to /root/nltk_data...\n",
            "[nltk_data]   Unzipping corpora/stopwords.zip.\n",
            "[nltk_data] Downloading package punkt to /root/nltk_data...\n",
            "[nltk_data]   Unzipping tokenizers/punkt.zip.\n"
          ],
          "name": "stdout"
        },
        {
          "output_type": "execute_result",
          "data": {
            "text/plain": [
              "True"
            ]
          },
          "metadata": {
            "tags": []
          },
          "execution_count": 4
        }
      ]
    },
    {
      "cell_type": "code",
      "metadata": {
        "id": "LPn1_52-JZdw",
        "colab": {
          "base_uri": "https://localhost:8080/",
          "height": 374
        },
        "outputId": "9a3a4bc9-9e0a-40f4-8b6a-ddd41a1458a1"
      },
      "source": [
        "df_news_before=pd.read_csv('/content/drive/MyDrive/IBovespa/valoreconomico/valoreconomico.csv',nrows=5000)"
      ],
      "execution_count": null,
      "outputs": [
        {
          "output_type": "error",
          "ename": "FileNotFoundError",
          "evalue": "ignored",
          "traceback": [
            "\u001b[0;31m---------------------------------------------------------------------------\u001b[0m",
            "\u001b[0;31mFileNotFoundError\u001b[0m                         Traceback (most recent call last)",
            "\u001b[0;32m<ipython-input-5-c48d4d19741f>\u001b[0m in \u001b[0;36m<module>\u001b[0;34m()\u001b[0m\n\u001b[0;32m----> 1\u001b[0;31m \u001b[0mdf_news_before\u001b[0m\u001b[0;34m=\u001b[0m\u001b[0mpd\u001b[0m\u001b[0;34m.\u001b[0m\u001b[0mread_csv\u001b[0m\u001b[0;34m(\u001b[0m\u001b[0;34m'/content/drive/MyDrive/IBovespa/valoreconomico/valoreconomico.csv'\u001b[0m\u001b[0;34m,\u001b[0m\u001b[0mnrows\u001b[0m\u001b[0;34m=\u001b[0m\u001b[0;36m5000\u001b[0m\u001b[0;34m)\u001b[0m\u001b[0;34m\u001b[0m\u001b[0;34m\u001b[0m\u001b[0m\n\u001b[0m",
            "\u001b[0;32m/usr/local/lib/python3.6/dist-packages/pandas/io/parsers.py\u001b[0m in \u001b[0;36mread_csv\u001b[0;34m(filepath_or_buffer, sep, delimiter, header, names, index_col, usecols, squeeze, prefix, mangle_dupe_cols, dtype, engine, converters, true_values, false_values, skipinitialspace, skiprows, skipfooter, nrows, na_values, keep_default_na, na_filter, verbose, skip_blank_lines, parse_dates, infer_datetime_format, keep_date_col, date_parser, dayfirst, cache_dates, iterator, chunksize, compression, thousands, decimal, lineterminator, quotechar, quoting, doublequote, escapechar, comment, encoding, dialect, error_bad_lines, warn_bad_lines, delim_whitespace, low_memory, memory_map, float_precision)\u001b[0m\n\u001b[1;32m    686\u001b[0m     )\n\u001b[1;32m    687\u001b[0m \u001b[0;34m\u001b[0m\u001b[0m\n\u001b[0;32m--> 688\u001b[0;31m     \u001b[0;32mreturn\u001b[0m \u001b[0m_read\u001b[0m\u001b[0;34m(\u001b[0m\u001b[0mfilepath_or_buffer\u001b[0m\u001b[0;34m,\u001b[0m \u001b[0mkwds\u001b[0m\u001b[0;34m)\u001b[0m\u001b[0;34m\u001b[0m\u001b[0;34m\u001b[0m\u001b[0m\n\u001b[0m\u001b[1;32m    689\u001b[0m \u001b[0;34m\u001b[0m\u001b[0m\n\u001b[1;32m    690\u001b[0m \u001b[0;34m\u001b[0m\u001b[0m\n",
            "\u001b[0;32m/usr/local/lib/python3.6/dist-packages/pandas/io/parsers.py\u001b[0m in \u001b[0;36m_read\u001b[0;34m(filepath_or_buffer, kwds)\u001b[0m\n\u001b[1;32m    452\u001b[0m \u001b[0;34m\u001b[0m\u001b[0m\n\u001b[1;32m    453\u001b[0m     \u001b[0;31m# Create the parser.\u001b[0m\u001b[0;34m\u001b[0m\u001b[0;34m\u001b[0m\u001b[0;34m\u001b[0m\u001b[0m\n\u001b[0;32m--> 454\u001b[0;31m     \u001b[0mparser\u001b[0m \u001b[0;34m=\u001b[0m \u001b[0mTextFileReader\u001b[0m\u001b[0;34m(\u001b[0m\u001b[0mfp_or_buf\u001b[0m\u001b[0;34m,\u001b[0m \u001b[0;34m**\u001b[0m\u001b[0mkwds\u001b[0m\u001b[0;34m)\u001b[0m\u001b[0;34m\u001b[0m\u001b[0;34m\u001b[0m\u001b[0m\n\u001b[0m\u001b[1;32m    455\u001b[0m \u001b[0;34m\u001b[0m\u001b[0m\n\u001b[1;32m    456\u001b[0m     \u001b[0;32mif\u001b[0m \u001b[0mchunksize\u001b[0m \u001b[0;32mor\u001b[0m \u001b[0miterator\u001b[0m\u001b[0;34m:\u001b[0m\u001b[0;34m\u001b[0m\u001b[0;34m\u001b[0m\u001b[0m\n",
            "\u001b[0;32m/usr/local/lib/python3.6/dist-packages/pandas/io/parsers.py\u001b[0m in \u001b[0;36m__init__\u001b[0;34m(self, f, engine, **kwds)\u001b[0m\n\u001b[1;32m    946\u001b[0m             \u001b[0mself\u001b[0m\u001b[0;34m.\u001b[0m\u001b[0moptions\u001b[0m\u001b[0;34m[\u001b[0m\u001b[0;34m\"has_index_names\"\u001b[0m\u001b[0;34m]\u001b[0m \u001b[0;34m=\u001b[0m \u001b[0mkwds\u001b[0m\u001b[0;34m[\u001b[0m\u001b[0;34m\"has_index_names\"\u001b[0m\u001b[0;34m]\u001b[0m\u001b[0;34m\u001b[0m\u001b[0;34m\u001b[0m\u001b[0m\n\u001b[1;32m    947\u001b[0m \u001b[0;34m\u001b[0m\u001b[0m\n\u001b[0;32m--> 948\u001b[0;31m         \u001b[0mself\u001b[0m\u001b[0;34m.\u001b[0m\u001b[0m_make_engine\u001b[0m\u001b[0;34m(\u001b[0m\u001b[0mself\u001b[0m\u001b[0;34m.\u001b[0m\u001b[0mengine\u001b[0m\u001b[0;34m)\u001b[0m\u001b[0;34m\u001b[0m\u001b[0;34m\u001b[0m\u001b[0m\n\u001b[0m\u001b[1;32m    949\u001b[0m \u001b[0;34m\u001b[0m\u001b[0m\n\u001b[1;32m    950\u001b[0m     \u001b[0;32mdef\u001b[0m \u001b[0mclose\u001b[0m\u001b[0;34m(\u001b[0m\u001b[0mself\u001b[0m\u001b[0;34m)\u001b[0m\u001b[0;34m:\u001b[0m\u001b[0;34m\u001b[0m\u001b[0;34m\u001b[0m\u001b[0m\n",
            "\u001b[0;32m/usr/local/lib/python3.6/dist-packages/pandas/io/parsers.py\u001b[0m in \u001b[0;36m_make_engine\u001b[0;34m(self, engine)\u001b[0m\n\u001b[1;32m   1178\u001b[0m     \u001b[0;32mdef\u001b[0m \u001b[0m_make_engine\u001b[0m\u001b[0;34m(\u001b[0m\u001b[0mself\u001b[0m\u001b[0;34m,\u001b[0m \u001b[0mengine\u001b[0m\u001b[0;34m=\u001b[0m\u001b[0;34m\"c\"\u001b[0m\u001b[0;34m)\u001b[0m\u001b[0;34m:\u001b[0m\u001b[0;34m\u001b[0m\u001b[0;34m\u001b[0m\u001b[0m\n\u001b[1;32m   1179\u001b[0m         \u001b[0;32mif\u001b[0m \u001b[0mengine\u001b[0m \u001b[0;34m==\u001b[0m \u001b[0;34m\"c\"\u001b[0m\u001b[0;34m:\u001b[0m\u001b[0;34m\u001b[0m\u001b[0;34m\u001b[0m\u001b[0m\n\u001b[0;32m-> 1180\u001b[0;31m             \u001b[0mself\u001b[0m\u001b[0;34m.\u001b[0m\u001b[0m_engine\u001b[0m \u001b[0;34m=\u001b[0m \u001b[0mCParserWrapper\u001b[0m\u001b[0;34m(\u001b[0m\u001b[0mself\u001b[0m\u001b[0;34m.\u001b[0m\u001b[0mf\u001b[0m\u001b[0;34m,\u001b[0m \u001b[0;34m**\u001b[0m\u001b[0mself\u001b[0m\u001b[0;34m.\u001b[0m\u001b[0moptions\u001b[0m\u001b[0;34m)\u001b[0m\u001b[0;34m\u001b[0m\u001b[0;34m\u001b[0m\u001b[0m\n\u001b[0m\u001b[1;32m   1181\u001b[0m         \u001b[0;32melse\u001b[0m\u001b[0;34m:\u001b[0m\u001b[0;34m\u001b[0m\u001b[0;34m\u001b[0m\u001b[0m\n\u001b[1;32m   1182\u001b[0m             \u001b[0;32mif\u001b[0m \u001b[0mengine\u001b[0m \u001b[0;34m==\u001b[0m \u001b[0;34m\"python\"\u001b[0m\u001b[0;34m:\u001b[0m\u001b[0;34m\u001b[0m\u001b[0;34m\u001b[0m\u001b[0m\n",
            "\u001b[0;32m/usr/local/lib/python3.6/dist-packages/pandas/io/parsers.py\u001b[0m in \u001b[0;36m__init__\u001b[0;34m(self, src, **kwds)\u001b[0m\n\u001b[1;32m   2008\u001b[0m         \u001b[0mkwds\u001b[0m\u001b[0;34m[\u001b[0m\u001b[0;34m\"usecols\"\u001b[0m\u001b[0;34m]\u001b[0m \u001b[0;34m=\u001b[0m \u001b[0mself\u001b[0m\u001b[0;34m.\u001b[0m\u001b[0musecols\u001b[0m\u001b[0;34m\u001b[0m\u001b[0;34m\u001b[0m\u001b[0m\n\u001b[1;32m   2009\u001b[0m \u001b[0;34m\u001b[0m\u001b[0m\n\u001b[0;32m-> 2010\u001b[0;31m         \u001b[0mself\u001b[0m\u001b[0;34m.\u001b[0m\u001b[0m_reader\u001b[0m \u001b[0;34m=\u001b[0m \u001b[0mparsers\u001b[0m\u001b[0;34m.\u001b[0m\u001b[0mTextReader\u001b[0m\u001b[0;34m(\u001b[0m\u001b[0msrc\u001b[0m\u001b[0;34m,\u001b[0m \u001b[0;34m**\u001b[0m\u001b[0mkwds\u001b[0m\u001b[0;34m)\u001b[0m\u001b[0;34m\u001b[0m\u001b[0;34m\u001b[0m\u001b[0m\n\u001b[0m\u001b[1;32m   2011\u001b[0m         \u001b[0mself\u001b[0m\u001b[0;34m.\u001b[0m\u001b[0munnamed_cols\u001b[0m \u001b[0;34m=\u001b[0m \u001b[0mself\u001b[0m\u001b[0;34m.\u001b[0m\u001b[0m_reader\u001b[0m\u001b[0;34m.\u001b[0m\u001b[0munnamed_cols\u001b[0m\u001b[0;34m\u001b[0m\u001b[0;34m\u001b[0m\u001b[0m\n\u001b[1;32m   2012\u001b[0m \u001b[0;34m\u001b[0m\u001b[0m\n",
            "\u001b[0;32mpandas/_libs/parsers.pyx\u001b[0m in \u001b[0;36mpandas._libs.parsers.TextReader.__cinit__\u001b[0;34m()\u001b[0m\n",
            "\u001b[0;32mpandas/_libs/parsers.pyx\u001b[0m in \u001b[0;36mpandas._libs.parsers.TextReader._setup_parser_source\u001b[0;34m()\u001b[0m\n",
            "\u001b[0;31mFileNotFoundError\u001b[0m: [Errno 2] No such file or directory: '/content/drive/MyDrive/IBovespa/valoreconomico/valoreconomico.csv'"
          ]
        }
      ]
    },
    {
      "cell_type": "code",
      "metadata": {
        "id": "xQ_1zeHyB7M2"
      },
      "source": [
        "df_news_before['data'] = pd.to_datetime(df_news_before['data'])\n",
        "df_news_before['flag'] = df_news_before['data'].apply(lambda x: 'depois_18' if x.hour > 18  else ('antes_das_9' if x.hour < 9 else 'intra'))\n",
        "df_news_before['title'] = df_news_before['title'].apply(lambda x:x.split(sep='|')[0])\n",
        "df_news_before['data_target'] = df_news_before.apply(lambda x:x.data + datetime.timedelta(days=1) if x.flag == 'depois_18' else x.data, axis=1)\n",
        "df_news_before['data_target'] = df_news_before['data_target'].dt.strftime('%Y%m%d')\n",
        "#del df_news['date_target']\n",
        "#df_news['data_target'] = df_news['data_target'].apply(lambda x: datetime.datetime.strptime(x,'%y%m%d').date())\n",
        "#somar um dia para as que estão depois das 18h"
      ],
      "execution_count": null,
      "outputs": []
    },
    {
      "cell_type": "code",
      "metadata": {
        "id": "wt4hWLMXYUjU"
      },
      "source": [
        "df_news = df_news_before.query('flag != \"intra\"')[['title','data_target']]\r\n",
        "df_news['data'] = df_news['data_target']\r\n",
        "#del df_news['data_target']"
      ],
      "execution_count": null,
      "outputs": []
    },
    {
      "cell_type": "code",
      "metadata": {
        "id": "SAWfWUzAGa6a"
      },
      "source": [
        "df_news_fechamento = df_news[df_news['flag']==1]\n",
        "df_news_inter = df_news[df_news['flag']==0]"
      ],
      "execution_count": null,
      "outputs": []
    },
    {
      "cell_type": "code",
      "metadata": {
        "id": "_6HyooiXLe1s",
        "colab": {
          "base_uri": "https://localhost:8080/",
          "height": 1000
        },
        "outputId": "3997935d-c820-4924-8339-8c72846635c5"
      },
      "source": [
        "df_group_fechamento = df_news.groupby(df_news['data'])['title'].sum().to_frame()\n",
        "#df_group_int = df_news_inter.groupby(df_news_inter['data'].dt.date)['title'].sum().to_frame()"
      ],
      "execution_count": null,
      "outputs": [
        {
          "output_type": "execute_result",
          "data": {
            "text/html": [
              "<div>\n",
              "<style scoped>\n",
              "    .dataframe tbody tr th:only-of-type {\n",
              "        vertical-align: middle;\n",
              "    }\n",
              "\n",
              "    .dataframe tbody tr th {\n",
              "        vertical-align: top;\n",
              "    }\n",
              "\n",
              "    .dataframe thead th {\n",
              "        text-align: right;\n",
              "    }\n",
              "</style>\n",
              "<table border=\"1\" class=\"dataframe\">\n",
              "  <thead>\n",
              "    <tr style=\"text-align: right;\">\n",
              "      <th></th>\n",
              "      <th>title</th>\n",
              "    </tr>\n",
              "    <tr>\n",
              "      <th>data</th>\n",
              "      <th></th>\n",
              "    </tr>\n",
              "  </thead>\n",
              "  <tbody>\n",
              "    <tr>\n",
              "      <th>20110109</th>\n",
              "      <td>Vale Fertilizantes reverte prejuízo e lucra R$...</td>\n",
              "    </tr>\n",
              "    <tr>\n",
              "      <th>20110208</th>\n",
              "      <td>Kirin compra a Schincariol por R$ 4 bi Movimen...</td>\n",
              "    </tr>\n",
              "    <tr>\n",
              "      <th>20110209</th>\n",
              "      <td>CPFL investirá R$ 360 milhões em termelétricas...</td>\n",
              "    </tr>\n",
              "    <tr>\n",
              "      <th>20110212</th>\n",
              "      <td>Correção: Haddad deve ir a Recife para recorre...</td>\n",
              "    </tr>\n",
              "    <tr>\n",
              "      <th>20110308</th>\n",
              "      <td>CPI para investigar Transportes obtém assinatu...</td>\n",
              "    </tr>\n",
              "    <tr>\n",
              "      <th>20110309</th>\n",
              "      <td>Lucro líquido da Marisa sobre 31,8% no trimest...</td>\n",
              "    </tr>\n",
              "    <tr>\n",
              "      <th>20110311</th>\n",
              "      <td>Fisco é condenado por dano moral Agenda Pitada...</td>\n",
              "    </tr>\n",
              "    <tr>\n",
              "      <th>20110312</th>\n",
              "      <td>Lucro da SulAmérica cai 19% com aumento de ind...</td>\n",
              "    </tr>\n",
              "    <tr>\n",
              "      <th>20110408</th>\n",
              "      <td>Responsabilidade civil em contrato internacion...</td>\n",
              "    </tr>\n",
              "    <tr>\n",
              "      <th>20110409</th>\n",
              "      <td>Dólar futuro fecha com forte alta Dilma anunci...</td>\n",
              "    </tr>\n",
              "    <tr>\n",
              "      <th>20110411</th>\n",
              "      <td>Ritmo da migração populacional diminuiu em 12 ...</td>\n",
              "    </tr>\n",
              "    <tr>\n",
              "      <th>20110412</th>\n",
              "      <td>Corretora de seguro Willis tem novo presidente...</td>\n",
              "    </tr>\n",
              "    <tr>\n",
              "      <th>20110508</th>\n",
              "      <td>\"Esforço contra corrupção deve ter apoio\", diz...</td>\n",
              "    </tr>\n",
              "    <tr>\n",
              "      <th>20110509</th>\n",
              "      <td>Risco Brasil fecha com queda, aos 179 pontos S...</td>\n",
              "    </tr>\n",
              "    <tr>\n",
              "      <th>20110726</th>\n",
              "      <td>Embraport busca R$ 1,6 bi para financiar termi...</td>\n",
              "    </tr>\n",
              "    <tr>\n",
              "      <th>20110727</th>\n",
              "      <td>Bancos aumentaram exposição aos EUA Minerva te...</td>\n",
              "    </tr>\n",
              "    <tr>\n",
              "      <th>20110728</th>\n",
              "      <td>Bolsas dos EUA têm maior queda em oito semanas...</td>\n",
              "    </tr>\n",
              "    <tr>\n",
              "      <th>20110729</th>\n",
              "      <td>Expansão em cadeia Setor imobiliário deve movi...</td>\n",
              "    </tr>\n",
              "    <tr>\n",
              "      <th>20110808</th>\n",
              "      <td>Indicadores Tribunais afirmam que tentam sanar...</td>\n",
              "    </tr>\n",
              "    <tr>\n",
              "      <th>20110809</th>\n",
              "      <td>Lucro líquido da Direcional Engenharia teve re...</td>\n",
              "    </tr>\n",
              "    <tr>\n",
              "      <th>20110816</th>\n",
              "      <td>Lucro da Brasil Brokers cresce 43,6% no segund...</td>\n",
              "    </tr>\n",
              "    <tr>\n",
              "      <th>20110823</th>\n",
              "      <td>Ministério defende aumento do imposto sobre co...</td>\n",
              "    </tr>\n",
              "    <tr>\n",
              "      <th>20110824</th>\n",
              "      <td>\"Sou fascinado pelo mundo da imprensa\", diz Fa...</td>\n",
              "    </tr>\n",
              "    <tr>\n",
              "      <th>20110825</th>\n",
              "      <td>Dólar a R$ 1,6 e liquidez animam ACC Frase do ...</td>\n",
              "    </tr>\n",
              "    <tr>\n",
              "      <th>20110826</th>\n",
              "      <td>Justiça reage a pedidos infundados Curtas Bame...</td>\n",
              "    </tr>\n",
              "    <tr>\n",
              "      <th>20110829</th>\n",
              "      <td>PT retomará temas polêmicos em Congresso HSBC ...</td>\n",
              "    </tr>\n",
              "    <tr>\n",
              "      <th>20110831</th>\n",
              "      <td>Conselheiro fiscal também questiona proposta d...</td>\n",
              "    </tr>\n",
              "    <tr>\n",
              "      <th>20110908</th>\n",
              "      <td>Mills vê demanda fraca por construção pesada R...</td>\n",
              "    </tr>\n",
              "    <tr>\n",
              "      <th>20110909</th>\n",
              "      <td>CSN contrata empréstimo de R$ 2,2 bilhões West...</td>\n",
              "    </tr>\n",
              "    <tr>\n",
              "      <th>20111008</th>\n",
              "      <td>BC americano indica juro até 2013 e reforça 'p...</td>\n",
              "    </tr>\n",
              "    <tr>\n",
              "      <th>20111009</th>\n",
              "      <td>Na Grande São Paulo, nível de emprego na indús...</td>\n",
              "    </tr>\n",
              "    <tr>\n",
              "      <th>20111108</th>\n",
              "      <td>O imperativo manufatureiro Portaria esclarece ...</td>\n",
              "    </tr>\n",
              "    <tr>\n",
              "      <th>20111109</th>\n",
              "      <td>Lucro líquido da Cetip avança 67% no segundo t...</td>\n",
              "    </tr>\n",
              "    <tr>\n",
              "      <th>20111208</th>\n",
              "      <td>IPC de julho recua na França, fica estável na ...</td>\n",
              "    </tr>\n",
              "    <tr>\n",
              "      <th>20111209</th>\n",
              "      <td>Magazine Luiza converte lojas em Baú e reduz c...</td>\n",
              "    </tr>\n",
              "    <tr>\n",
              "      <th>20170325</th>\n",
              "      <td>Usiminas: Acusação e defesa um dia após afasta...</td>\n",
              "    </tr>\n",
              "    <tr>\n",
              "      <th>20171102</th>\n",
              "      <td>HSBC reduz participação no capital social da C...</td>\n",
              "    </tr>\n",
              "    <tr>\n",
              "      <th>20201014</th>\n",
              "      <td>Ciro Gomes testa positivo para covid-19 BNDES ...</td>\n",
              "    </tr>\n",
              "    <tr>\n",
              "      <th>20201015</th>\n",
              "      <td>EUA: pesquisa aponta Biden 11 pontos à frente ...</td>\n",
              "    </tr>\n",
              "    <tr>\n",
              "      <th>20201020</th>\n",
              "      <td>Argentina supera 1 milhão de casos de covid-19...</td>\n",
              "    </tr>\n",
              "    <tr>\n",
              "      <th>20201023</th>\n",
              "      <td>PF faz busca e apreensão na Qualicorp Lojistas...</td>\n",
              "    </tr>\n",
              "    <tr>\n",
              "      <th>20201028</th>\n",
              "      <td>Cartas de Leitores</td>\n",
              "    </tr>\n",
              "  </tbody>\n",
              "</table>\n",
              "</div>"
            ],
            "text/plain": [
              "                                                      title\n",
              "data                                                       \n",
              "20110109  Vale Fertilizantes reverte prejuízo e lucra R$...\n",
              "20110208  Kirin compra a Schincariol por R$ 4 bi Movimen...\n",
              "20110209  CPFL investirá R$ 360 milhões em termelétricas...\n",
              "20110212  Correção: Haddad deve ir a Recife para recorre...\n",
              "20110308  CPI para investigar Transportes obtém assinatu...\n",
              "20110309  Lucro líquido da Marisa sobre 31,8% no trimest...\n",
              "20110311  Fisco é condenado por dano moral Agenda Pitada...\n",
              "20110312  Lucro da SulAmérica cai 19% com aumento de ind...\n",
              "20110408  Responsabilidade civil em contrato internacion...\n",
              "20110409  Dólar futuro fecha com forte alta Dilma anunci...\n",
              "20110411  Ritmo da migração populacional diminuiu em 12 ...\n",
              "20110412  Corretora de seguro Willis tem novo presidente...\n",
              "20110508  \"Esforço contra corrupção deve ter apoio\", diz...\n",
              "20110509  Risco Brasil fecha com queda, aos 179 pontos S...\n",
              "20110726  Embraport busca R$ 1,6 bi para financiar termi...\n",
              "20110727  Bancos aumentaram exposição aos EUA Minerva te...\n",
              "20110728  Bolsas dos EUA têm maior queda em oito semanas...\n",
              "20110729  Expansão em cadeia Setor imobiliário deve movi...\n",
              "20110808  Indicadores Tribunais afirmam que tentam sanar...\n",
              "20110809  Lucro líquido da Direcional Engenharia teve re...\n",
              "20110816  Lucro da Brasil Brokers cresce 43,6% no segund...\n",
              "20110823  Ministério defende aumento do imposto sobre co...\n",
              "20110824  \"Sou fascinado pelo mundo da imprensa\", diz Fa...\n",
              "20110825  Dólar a R$ 1,6 e liquidez animam ACC Frase do ...\n",
              "20110826  Justiça reage a pedidos infundados Curtas Bame...\n",
              "20110829  PT retomará temas polêmicos em Congresso HSBC ...\n",
              "20110831  Conselheiro fiscal também questiona proposta d...\n",
              "20110908  Mills vê demanda fraca por construção pesada R...\n",
              "20110909  CSN contrata empréstimo de R$ 2,2 bilhões West...\n",
              "20111008  BC americano indica juro até 2013 e reforça 'p...\n",
              "20111009  Na Grande São Paulo, nível de emprego na indús...\n",
              "20111108  O imperativo manufatureiro Portaria esclarece ...\n",
              "20111109  Lucro líquido da Cetip avança 67% no segundo t...\n",
              "20111208  IPC de julho recua na França, fica estável na ...\n",
              "20111209  Magazine Luiza converte lojas em Baú e reduz c...\n",
              "20170325  Usiminas: Acusação e defesa um dia após afasta...\n",
              "20171102  HSBC reduz participação no capital social da C...\n",
              "20201014  Ciro Gomes testa positivo para covid-19 BNDES ...\n",
              "20201015  EUA: pesquisa aponta Biden 11 pontos à frente ...\n",
              "20201020  Argentina supera 1 milhão de casos de covid-19...\n",
              "20201023  PF faz busca e apreensão na Qualicorp Lojistas...\n",
              "20201028                                Cartas de Leitores "
            ]
          },
          "metadata": {
            "tags": []
          },
          "execution_count": 91
        }
      ]
    },
    {
      "cell_type": "markdown",
      "metadata": {
        "id": "-KAyN0flbdYz"
      },
      "source": [
        "# **FUNÇÃO CHICO**"
      ]
    },
    {
      "cell_type": "code",
      "metadata": {
        "id": "58oZKKQsbftb"
      },
      "source": [
        "tickers = ['^BVSP']\r\n",
        "\r\n",
        "start_date = \"2000-01-01\"\r\n",
        "end_date = \"2020-11-01\"\r\n",
        "\r\n",
        "data_bvsp = yf.download(tickers, start=start_date, end=end_date)"
      ],
      "execution_count": null,
      "outputs": []
    },
    {
      "cell_type": "code",
      "metadata": {
        "id": "l-yWAvAGPN1p"
      },
      "source": [
        "df_group_fechamento['Result_Ibov'] = np.random.randint(0,2, (1,len(df_group_fechamento))).T\n",
        "df_group_int['Result_Ibov'] = np.random.randint(0,2, (1,len(df_group_int))).T"
      ],
      "execution_count": null,
      "outputs": []
    },
    {
      "cell_type": "code",
      "metadata": {
        "id": "Z3fW1vWgRnoa"
      },
      "source": [
        "def clean_text(string):\n",
        "\n",
        "  palavras_tokenize = word_tokenize(string, language='portuguese')\n",
        "\n",
        "  filtered_words = [word for word in palavras_tokenize if word not in stopwords.words('portuguese')]\n",
        "  return TreebankWordDetokenizer().detokenize(filtered_words)"
      ],
      "execution_count": null,
      "outputs": []
    },
    {
      "cell_type": "code",
      "metadata": {
        "id": "TUfyoGFXRcuk"
      },
      "source": [
        "df_group_fechamento['title']=df_group_fechamento['title'].apply(lambda x:unidecode(x.lower()))\n",
        "df_group_fechamento['title']=df_group_fechamento['title'].apply(lambda x:re.sub('[^a-zA-Z]', ' ', x))\n",
        "df_group_fechamento['title']=df_group_fechamento['title'].apply(clean_text)\n",
        "\n",
        "df_group_int['title']=df_group_int['title'].apply(lambda x:unidecode(x.lower()))\n",
        "df_group_int['title']=df_group_int['title'].apply(lambda x:re.sub\n",
        "                                                  ('[^a-zA-Z]', ' ', x))\n",
        "df_group_int['title']=df_group_int['title'].apply(clean_text)"
      ],
      "execution_count": null,
      "outputs": []
    },
    {
      "cell_type": "code",
      "metadata": {
        "id": "zq5H7R1UTdw2"
      },
      "source": [
        "vectorizer = TfidfVectorizer(ngram_range=(1,2))\n",
        "\n",
        "X_train, X_test, y_train, y_test = train_test_split(df_group_fechamento['title'],\n",
        "                                                    df_group_fechamento['Result_Ibov'],\n",
        "                                                    test_size = 0.3,\n",
        "                                                    random_state=42)\n",
        "\n",
        "X_train_vect = vectorizer.fit_transform(X_train)\n",
        "X_test_vect = vectorizer.transform(X_test)\n",
        "  \n",
        "model = MultinomialNB(alpha=4)\n",
        "\n",
        "model.fit(X_train_vect, y_train)\n",
        "y_pred_eval = model.predict_proba(X_test_vect)[:,1]"
      ],
      "execution_count": null,
      "outputs": []
    },
    {
      "cell_type": "code",
      "metadata": {
        "colab": {
          "base_uri": "https://localhost:8080/",
          "height": 452
        },
        "id": "kZ9h0K6iLWNB",
        "outputId": "f3186ef0-dda5-4144-efec-cb836d956a3f"
      },
      "source": [
        "dv = pd.DataFrame(zip(df_group_fechamento['title'], y_pred_eval), columns=['title', 'Result_Ibov'])\n",
        "dv = dv.sort_values('Result_Ibov', ascending = False)\n",
        "dv"
      ],
      "execution_count": null,
      "outputs": [
        {
          "output_type": "execute_result",
          "data": {
            "text/html": [
              "<div>\n",
              "<style scoped>\n",
              "    .dataframe tbody tr th:only-of-type {\n",
              "        vertical-align: middle;\n",
              "    }\n",
              "\n",
              "    .dataframe tbody tr th {\n",
              "        vertical-align: top;\n",
              "    }\n",
              "\n",
              "    .dataframe thead th {\n",
              "        text-align: right;\n",
              "    }\n",
              "</style>\n",
              "<table border=\"1\" class=\"dataframe\">\n",
              "  <thead>\n",
              "    <tr style=\"text-align: right;\">\n",
              "      <th></th>\n",
              "      <th>title</th>\n",
              "      <th>Result_Ibov</th>\n",
              "    </tr>\n",
              "  </thead>\n",
              "  <tbody>\n",
              "    <tr>\n",
              "      <th>8</th>\n",
              "      <td>responsabilidade civil contrato internacional ...</td>\n",
              "      <td>0.458071</td>\n",
              "    </tr>\n",
              "    <tr>\n",
              "      <th>10</th>\n",
              "      <td>ritmo migracao populacional diminuiu regioes p...</td>\n",
              "      <td>0.453570</td>\n",
              "    </tr>\n",
              "    <tr>\n",
              "      <th>7</th>\n",
              "      <td>lucro sulamerica cai aumento indenizacoes fitc...</td>\n",
              "      <td>0.451365</td>\n",
              "    </tr>\n",
              "    <tr>\n",
              "      <th>12</th>\n",
              "      <td>esforco contra corrupcao deve ter apoio diz ma...</td>\n",
              "      <td>0.450132</td>\n",
              "    </tr>\n",
              "    <tr>\n",
              "      <th>1</th>\n",
              "      <td>kirin compra schincariol r bi movimento falime...</td>\n",
              "      <td>0.450048</td>\n",
              "    </tr>\n",
              "    <tr>\n",
              "      <th>11</th>\n",
              "      <td>corretora seguro willis novo presidente americ...</td>\n",
              "      <td>0.450001</td>\n",
              "    </tr>\n",
              "    <tr>\n",
              "      <th>9</th>\n",
              "      <td>dolar futuro fecha forte alta dilma anuncia no...</td>\n",
              "      <td>0.449344</td>\n",
              "    </tr>\n",
              "    <tr>\n",
              "      <th>2</th>\n",
              "      <td>cpfl investira r milhoes termeletricas pr mg r...</td>\n",
              "      <td>0.448943</td>\n",
              "    </tr>\n",
              "    <tr>\n",
              "      <th>6</th>\n",
              "      <td>fisco condenado dano moral agenda pitada risco...</td>\n",
              "      <td>0.447384</td>\n",
              "    </tr>\n",
              "    <tr>\n",
              "      <th>4</th>\n",
              "      <td>cpi investigar transportes obtem assinaturas p...</td>\n",
              "      <td>0.446519</td>\n",
              "    </tr>\n",
              "    <tr>\n",
              "      <th>5</th>\n",
              "      <td>lucro liquido marisa sobre trimestre risco bra...</td>\n",
              "      <td>0.444555</td>\n",
              "    </tr>\n",
              "    <tr>\n",
              "      <th>3</th>\n",
              "      <td>correcao haddad deve ir recife recorrer anulac...</td>\n",
              "      <td>0.441796</td>\n",
              "    </tr>\n",
              "    <tr>\n",
              "      <th>0</th>\n",
              "      <td>vale fertilizantes reverte prejuizo lucra r mi...</td>\n",
              "      <td>0.435306</td>\n",
              "    </tr>\n",
              "  </tbody>\n",
              "</table>\n",
              "</div>"
            ],
            "text/plain": [
              "                                                title  Result_Ibov\n",
              "8   responsabilidade civil contrato internacional ...     0.458071\n",
              "10  ritmo migracao populacional diminuiu regioes p...     0.453570\n",
              "7   lucro sulamerica cai aumento indenizacoes fitc...     0.451365\n",
              "12  esforco contra corrupcao deve ter apoio diz ma...     0.450132\n",
              "1   kirin compra schincariol r bi movimento falime...     0.450048\n",
              "11  corretora seguro willis novo presidente americ...     0.450001\n",
              "9   dolar futuro fecha forte alta dilma anuncia no...     0.449344\n",
              "2   cpfl investira r milhoes termeletricas pr mg r...     0.448943\n",
              "6   fisco condenado dano moral agenda pitada risco...     0.447384\n",
              "4   cpi investigar transportes obtem assinaturas p...     0.446519\n",
              "5   lucro liquido marisa sobre trimestre risco bra...     0.444555\n",
              "3   correcao haddad deve ir recife recorrer anulac...     0.441796\n",
              "0   vale fertilizantes reverte prejuizo lucra r mi...     0.435306"
            ]
          },
          "metadata": {
            "tags": []
          },
          "execution_count": 96
        }
      ]
    },
    {
      "cell_type": "code",
      "metadata": {
        "id": "L1cUgPbzQbPn",
        "colab": {
          "base_uri": "https://localhost:8080/"
        },
        "outputId": "bd1147cd-c21e-4501-daa9-27a973c7f683"
      },
      "source": [
        ""
      ],
      "execution_count": null,
      "outputs": [
        {
          "output_type": "execute_result",
          "data": {
            "text/plain": [
              "array(['responsabilidade civil contrato internacional casal ministros renova politica pr brasileiro considera carro casa investimento empresa avalia comprar acoes usiminas bradesco condenado monitorar contas vale nao fala portugues apresentacoes balanco reorganizacao acionaria oi comeca esquentar drogasil sera parametro rentabilidade hiperinflacao afeta custos diz xstrata curta venda jatos movimenta us milhoes justica schincariol reavivam divergencias movimento falimentar bid pede brasil acabar tarifas importacao produtos colombianos chineses ameacam retaliar importacoes brasileiras filme basquete ajudam time warner mp eleva ipi cigarros cofins sobre importacoes crise agora atinge italia espanha sucessao fator correcoes commodities agricolas lider mcgraw hill decide futuro conglomerado centrais pressionarao congresso condicionantes desoneracao folha medida cambial vale poucos centavos eua precisam novo modelo negocios rim renova blackberry enfrentar iphone onda pre sal macae tera primeiro edificio corporativo olho classes b mueller aumenta mix dois nomes mesma grande uva trem bala prioridade nacional bancos aumentam rigor concessao credito blue chip taboca estabiliza producao crescer governo ja muda reintegra m cassab compra barrera pharma amplia operacao lg reforca prioridade linha branca fundo fareja oportunidades vendas leite alta pais primeiro semestre shell tera pagar indenizacao vazamento nigeria futuro unidade brf inquieta carambei sp ser humanizada diz pre candidato haddad indice commodities bc recua novo julho justica libera construtora cobranca dnit bndes cria programa petroleo gas fluxo brasil recorde us bi pedido vista interrompe julgamento sobre tributacao setor energia sp agenda crise confianca trava interbancario ue aecio ameaca radicalizar proposta mudanca mps ministro defende oposicao intervencao lider petista suecia muda cidade lugar explorar ferro circulo polar frase dia dilma vetara meta deficit nominal pib haddad assume ser pre candidato economia brasileira bem meio insensatez global blanver acirra briga medicamento samsung avalia patentes interdigital herdeiros brigam ha anos plamin suica aperta cerco valorizacao franco lg aumenta importacao nova fabrica vira asus deseja tornar tres maiores pcs pais ate horizonte perdido custos mao obra derrubam lucro contax herdeiros brigam mina ouro ventos norte varrem bolsa c vale reconstruira planta incendiada ate fevereiro bancos despencam levam bolsas europeias menor nivel meses cortes defesa ameacam seguranca diz secretario indicadores americanos apontam semestre fraco novas tecnicas dobram produtividade soja lavouras brasileiras reuniao debate geracao usina fonte alternativa tim briga espaco internet popular desoneracao fica calma heineken retoma plano construir fabricas faturamento bruto liquido governo sabe ocde recomendara brasil adocao orcamento plurianual investidor reduz risco resgata multimercado pt comeca tracar estrategias aliancas eleicoes municipais indice bovespa flerta mil pontos ministro cidades proximo explicar denuncias corrupcao destaques fundo insuficiente espanha italia hacker diz monitorar politicos nacionais indicadores governo dilma traca estrategias conquistar nova classe media america latina nao passa ilesa contagio espanhol lucro lojas marisa sobe surpreende mercado mercado ve pouca chance recuo taxacao sobre cambio bancos espanhois sao fator contagio al curtas schincariol vao justica revivem conflitos passado destaques espioes agiram impunes anos italia espanha agravam preocupacoes exterior cambaleante ocidente itau diz errou pequena empresa portaria mme vantagens petrobras leilao minerio ferro salva vez balancos fabricantes aco darwin fara selecao natural mercado corretoras jobim encontra dilma viaja amazonia bradesco quer levar fundo bdrs varejo alta renda acordo evita novo golpe economia americana pr deixa bloco apoio governo senado destaques curtas devolucao tributos sera definida setor curta credito consumidor segue desaceleracao orcamento menos r bi russia faz novas exigencias negociacao carnes falta competitividade industria diz pimentel abecip certificara agente credito curtas mubarak banco reus encomendas industria alemanha sobem junho surpreendem economistas veem risco elevado recessao eua tst realizara audiencia publica sobre terceirizacao ipc fipe chega fim julho alta asus deseja tornar tres maiores pcs pais ate senadores aprovam reconducao gurgel japao intervem cambio decide manter taxa juro perto zero banco inglaterra deixa taxa juro esperado bolsas asia fecham queda menos japao xangai chineses ameacam retaliar importacoes brasileiras taxa desemprego irlanda sobe julho economistas veem risco elevado recessao eua fundo insuficiente espanha italia',\n",
              "       0.458070778481045], dtype=object)"
            ]
          },
          "metadata": {
            "tags": []
          },
          "execution_count": 97
        }
      ]
    }
  ]
}